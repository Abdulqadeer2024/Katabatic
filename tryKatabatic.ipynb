{
 "cells": [
  {
   "cell_type": "markdown",
   "metadata": {},
   "source": [
    "# Katabatic Demo Usage"
   ]
  },
  {
   "cell_type": "markdown",
   "metadata": {},
   "source": [
    "#### Importing Dependenciencies"
   ]
  },
  {
   "cell_type": "code",
   "execution_count": null,
   "metadata": {},
   "outputs": [],
   "source": [
    "!pip install -U scikit-learn"
   ]
  },
  {
   "cell_type": "code",
   "execution_count": null,
   "metadata": {},
   "outputs": [],
   "source": [
    "!pip install pyitlib"
   ]
  },
  {
   "cell_type": "code",
   "execution_count": null,
   "metadata": {},
   "outputs": [],
   "source": [
    "!pip install tensorflow"
   ]
  },
  {
   "cell_type": "code",
   "execution_count": null,
   "metadata": {},
   "outputs": [],
   "source": [
    "!pip install pgmpy"
   ]
  },
  {
   "cell_type": "code",
   "execution_count": null,
   "metadata": {},
   "outputs": [],
   "source": [
    "!pip install sdv"
   ]
  },
  {
   "cell_type": "markdown",
   "metadata": {},
   "source": [
    "#### Importing Katabatic"
   ]
  },
  {
   "cell_type": "code",
   "execution_count": 2,
   "metadata": {},
   "outputs": [],
   "source": [
    "from katabatic.katabatic import Katabatic\n",
    "import numpy as np"
   ]
  },
  {
   "cell_type": "markdown",
   "metadata": {},
   "source": [
    "Sample Training Data"
   ]
  },
  {
   "cell_type": "code",
   "execution_count": 3,
   "metadata": {},
   "outputs": [],
   "source": [
    "# Generating sample data for X_train\n",
    "X_train = np.array([\n",
    "    [0.1, 1.2, 3.4, 4.5],\n",
    "    [2.3, 3.4, 1.1, 0.2],\n",
    "    [1.4, 0.4, 2.2, 3.3],\n",
    "    [3.1, 4.2, 1.0, 2.5],\n",
    "    [2.2, 1.1, 0.3, 4.1],\n",
    "    [0.5, 2.2, 4.4, 1.3],\n",
    "    [1.8, 3.3, 0.9, 2.2],\n",
    "    [2.6, 1.5, 3.3, 0.1],\n",
    "    [0.7, 4.4, 1.4, 3.0],\n",
    "    [1.9, 2.8, 3.9, 4.0]\n",
    "])\n",
    "\n",
    "# Generating sample data for y_train\n",
    "y_train = np.array([0, 1, 0, 1, 0, 1, 0, 1, 0, 1])"
   ]
  },
  {
   "cell_type": "markdown",
   "metadata": {},
   "source": [
    "Load Model and Train it on Sample Training Data"
   ]
  },
  {
   "cell_type": "code",
   "execution_count": 3,
   "metadata": {},
   "outputs": [
    {
     "name": "stdout",
     "output_type": "stream",
     "text": [
      "--------------------------\n",
      "module name:    katabatic.katabatic\n",
      "parent process: 62538\n",
      "process id:     70264\n",
      "katabatic.models.ganblr.ganblr_adapter\n",
      "katabatic.models.ganblr.ganblr_adapter\n"
     ]
    },
    {
     "name": "stderr",
     "output_type": "stream",
     "text": [
      "2024-08-04 07:12:18.631358: I tensorflow/core/platform/cpu_feature_guard.cc:210] This TensorFlow binary is optimized to use available CPU instructions in performance-critical operations.\n",
      "To enable the following instructions: AVX2 FMA, in other operations, rebuild TensorFlow with the appropriate compiler flags.\n"
     ]
    },
    {
     "name": "stdout",
     "output_type": "stream",
     "text": [
      "<module 'katabatic.models.ganblr.ganblr_adapter' from '/Users/abdullah/Documents/GitHub/Katabatic/katabatic/models/ganblr/ganblr_adapter.py'>\n",
      "[INFO] Initializing GANBLR Model\n",
      "[INFO] Training GANBLR model\n",
      "[SUCCESS] Model training completed\n"
     ]
    }
   ],
   "source": [
    "model = Katabatic.run_model('ganblr')\n",
    "model.load_model()\n",
    "model.fit(X_train,y_train)"
   ]
  },
  {
   "cell_type": "markdown",
   "metadata": {},
   "source": [
    "Generate New Data from trained model"
   ]
  },
  {
   "cell_type": "code",
   "execution_count": 4,
   "metadata": {},
   "outputs": [
    {
     "name": "stdout",
     "output_type": "stream",
     "text": [
      "[INFO] Generating data using GANBLR model\n",
      "[SUCCESS] Data generation completed\n"
     ]
    },
    {
     "data": {
      "text/plain": [
       "array([[2.6, 2.2, 1.4, 0.2, 0],\n",
       "       [2.3, 1.2, 2.2, 0.2, 0],\n",
       "       [0.5, 4.2, 2.2, 3.0, 1],\n",
       "       [2.6, 2.8, 3.9, 3.3, 0],\n",
       "       [2.6, 1.5, 3.3, 4.5, 1]], dtype=object)"
      ]
     },
     "execution_count": 4,
     "metadata": {},
     "output_type": "execute_result"
    }
   ],
   "source": [
    "model.generate(size=5)"
   ]
  },
  {
   "cell_type": "code",
   "execution_count": null,
   "metadata": {},
   "outputs": [],
   "source": [
    "# Future import statement ideas\n",
    "\n",
    "import katabatic as kb\n",
    "from katabatic.models import meg\n",
    "from katabatic.models import ganblr\n",
    "from katabatic.evaluate import eval_method1\n",
    "from katabatic.utils.preprocessing import data_processing_method1  # good place to store preprocessing utilities"
   ]
  },
  {
   "cell_type": "code",
   "execution_count": 4,
   "metadata": {},
   "outputs": [
    {
     "name": "stdout",
     "output_type": "stream",
     "text": [
      "--------------------------\n",
      "module name:    katabatic.katabatic\n",
      "parent process: 17968\n",
      "process id:     19523\n",
      "katabatic.models.ctgan.ctgan_adapter\n",
      "katabatic.models.ctgan.ctgan_adapter\n",
      "<module 'katabatic.models.ctgan.ctgan_adapter' from '/Users/abdullah/Documents/GitHub/Katabatic/katabatic/models/ctgan/ctgan_adapter.py'>\n"
     ]
    },
    {
     "name": "stderr",
     "output_type": "stream",
     "text": [
      "/opt/anaconda3/envs/katabatic/lib/python3.9/site-packages/sdv/single_table/base.py:92: UserWarning: We strongly recommend saving the metadata using 'save_to_json' for replicability in future SDV versions.\n",
      "  warnings.warn(\n"
     ]
    },
    {
     "name": "stdout",
     "output_type": "stream",
     "text": [
      "Fitting the model\n"
     ]
    }
   ],
   "source": [
    "ctgan_model = Katabatic.run_model('ctgan')\n",
    "ctgan_model.load_model()\n",
    "ctgan_model.fit(X_train,y_train)"
   ]
  },
  {
   "cell_type": "code",
   "execution_count": 7,
   "metadata": {},
   "outputs": [
    {
     "data": {
      "text/html": [
       "<div>\n",
       "<style scoped>\n",
       "    .dataframe tbody tr th:only-of-type {\n",
       "        vertical-align: middle;\n",
       "    }\n",
       "\n",
       "    .dataframe tbody tr th {\n",
       "        vertical-align: top;\n",
       "    }\n",
       "\n",
       "    .dataframe thead th {\n",
       "        text-align: right;\n",
       "    }\n",
       "</style>\n",
       "<table border=\"1\" class=\"dataframe\">\n",
       "  <thead>\n",
       "    <tr style=\"text-align: right;\">\n",
       "      <th></th>\n",
       "      <th>Country</th>\n",
       "      <th>Capital City</th>\n",
       "      <th>Latitude</th>\n",
       "      <th>Longitude</th>\n",
       "      <th>Temperature</th>\n",
       "      <th>Category</th>\n",
       "    </tr>\n",
       "  </thead>\n",
       "  <tbody>\n",
       "    <tr>\n",
       "      <th>0</th>\n",
       "      <td>sdv-id-YSpUJe</td>\n",
       "      <td>Poolechester</td>\n",
       "      <td>-75.177763</td>\n",
       "      <td>120.308987</td>\n",
       "      <td>22.9</td>\n",
       "      <td>Tropical</td>\n",
       "    </tr>\n",
       "    <tr>\n",
       "      <th>1</th>\n",
       "      <td>sdv-id-NIiWGV</td>\n",
       "      <td>South Katelyn</td>\n",
       "      <td>8.472425</td>\n",
       "      <td>159.547769</td>\n",
       "      <td>24.4</td>\n",
       "      <td>Continental</td>\n",
       "    </tr>\n",
       "    <tr>\n",
       "      <th>2</th>\n",
       "      <td>sdv-id-jXPEPG</td>\n",
       "      <td>East Catherineburgh</td>\n",
       "      <td>31.311463</td>\n",
       "      <td>-17.261687</td>\n",
       "      <td>21.0</td>\n",
       "      <td>Subtropical</td>\n",
       "    </tr>\n",
       "    <tr>\n",
       "      <th>3</th>\n",
       "      <td>sdv-id-qdIOsq</td>\n",
       "      <td>Mcgeefort</td>\n",
       "      <td>-20.245772</td>\n",
       "      <td>41.203897</td>\n",
       "      <td>15.7</td>\n",
       "      <td>Continental</td>\n",
       "    </tr>\n",
       "    <tr>\n",
       "      <th>4</th>\n",
       "      <td>sdv-id-JVuNhR</td>\n",
       "      <td>Wolfeport</td>\n",
       "      <td>-77.573626</td>\n",
       "      <td>-103.878558</td>\n",
       "      <td>9.3</td>\n",
       "      <td>Tropical</td>\n",
       "    </tr>\n",
       "    <tr>\n",
       "      <th>5</th>\n",
       "      <td>sdv-id-MbDxUG</td>\n",
       "      <td>Dianaview</td>\n",
       "      <td>78.664640</td>\n",
       "      <td>105.726564</td>\n",
       "      <td>8.9</td>\n",
       "      <td>Continental</td>\n",
       "    </tr>\n",
       "    <tr>\n",
       "      <th>6</th>\n",
       "      <td>sdv-id-KnqixE</td>\n",
       "      <td>East Evelynchester</td>\n",
       "      <td>-10.653517</td>\n",
       "      <td>179.110655</td>\n",
       "      <td>20.3</td>\n",
       "      <td>Tropical</td>\n",
       "    </tr>\n",
       "    <tr>\n",
       "      <th>7</th>\n",
       "      <td>sdv-id-NrCZbm</td>\n",
       "      <td>Raymondbury</td>\n",
       "      <td>62.140903</td>\n",
       "      <td>143.189927</td>\n",
       "      <td>28.4</td>\n",
       "      <td>Tropical</td>\n",
       "    </tr>\n",
       "    <tr>\n",
       "      <th>8</th>\n",
       "      <td>sdv-id-VGdUMB</td>\n",
       "      <td>Patelberg</td>\n",
       "      <td>-49.499341</td>\n",
       "      <td>-151.108443</td>\n",
       "      <td>28.4</td>\n",
       "      <td>Tropical</td>\n",
       "    </tr>\n",
       "    <tr>\n",
       "      <th>9</th>\n",
       "      <td>sdv-id-OeeJqW</td>\n",
       "      <td>Annetteton</td>\n",
       "      <td>-83.718175</td>\n",
       "      <td>-15.389078</td>\n",
       "      <td>6.6</td>\n",
       "      <td>Subtropical</td>\n",
       "    </tr>\n",
       "    <tr>\n",
       "      <th>10</th>\n",
       "      <td>sdv-id-sIThVg</td>\n",
       "      <td>Lake Melissastad</td>\n",
       "      <td>-75.906581</td>\n",
       "      <td>31.421979</td>\n",
       "      <td>25.0</td>\n",
       "      <td>Tropical</td>\n",
       "    </tr>\n",
       "    <tr>\n",
       "      <th>11</th>\n",
       "      <td>sdv-id-ONwSOk</td>\n",
       "      <td>Davidburgh</td>\n",
       "      <td>31.864879</td>\n",
       "      <td>-32.723879</td>\n",
       "      <td>19.4</td>\n",
       "      <td>Tropical</td>\n",
       "    </tr>\n",
       "    <tr>\n",
       "      <th>12</th>\n",
       "      <td>sdv-id-UvipHr</td>\n",
       "      <td>Smithmouth</td>\n",
       "      <td>-65.838532</td>\n",
       "      <td>173.674861</td>\n",
       "      <td>6.6</td>\n",
       "      <td>Continental</td>\n",
       "    </tr>\n",
       "  </tbody>\n",
       "</table>\n",
       "</div>"
      ],
      "text/plain": [
       "          Country         Capital City   Latitude   Longitude  Temperature  \\\n",
       "0   sdv-id-YSpUJe         Poolechester -75.177763  120.308987         22.9   \n",
       "1   sdv-id-NIiWGV        South Katelyn   8.472425  159.547769         24.4   \n",
       "2   sdv-id-jXPEPG  East Catherineburgh  31.311463  -17.261687         21.0   \n",
       "3   sdv-id-qdIOsq            Mcgeefort -20.245772   41.203897         15.7   \n",
       "4   sdv-id-JVuNhR            Wolfeport -77.573626 -103.878558          9.3   \n",
       "5   sdv-id-MbDxUG            Dianaview  78.664640  105.726564          8.9   \n",
       "6   sdv-id-KnqixE   East Evelynchester -10.653517  179.110655         20.3   \n",
       "7   sdv-id-NrCZbm          Raymondbury  62.140903  143.189927         28.4   \n",
       "8   sdv-id-VGdUMB            Patelberg -49.499341 -151.108443         28.4   \n",
       "9   sdv-id-OeeJqW           Annetteton -83.718175  -15.389078          6.6   \n",
       "10  sdv-id-sIThVg     Lake Melissastad -75.906581   31.421979         25.0   \n",
       "11  sdv-id-ONwSOk           Davidburgh  31.864879  -32.723879         19.4   \n",
       "12  sdv-id-UvipHr           Smithmouth -65.838532  173.674861          6.6   \n",
       "\n",
       "       Category  \n",
       "0      Tropical  \n",
       "1   Continental  \n",
       "2   Subtropical  \n",
       "3   Continental  \n",
       "4      Tropical  \n",
       "5   Continental  \n",
       "6      Tropical  \n",
       "7      Tropical  \n",
       "8      Tropical  \n",
       "9   Subtropical  \n",
       "10     Tropical  \n",
       "11     Tropical  \n",
       "12  Continental  "
      ]
     },
     "execution_count": 7,
     "metadata": {},
     "output_type": "execute_result"
    }
   ],
   "source": [
    "ctgan_model.generate()"
   ]
  }
 ],
 "metadata": {
  "kernelspec": {
   "display_name": "Python 3",
   "language": "python",
   "name": "python3"
  },
  "language_info": {
   "codemirror_mode": {
    "name": "ipython",
    "version": 3
   },
   "file_extension": ".py",
   "mimetype": "text/x-python",
   "name": "python",
   "nbconvert_exporter": "python",
   "pygments_lexer": "ipython3",
   "version": "3.9.19"
  }
 },
 "nbformat": 4,
 "nbformat_minor": 2
}
